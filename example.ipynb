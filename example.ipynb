{
 "cells": [
  {
   "cell_type": "markdown",
   "metadata": {},
   "source": [
    "# Clear all Directories"
   ]
  },
  {
   "cell_type": "code",
   "execution_count": 42,
   "metadata": {},
   "outputs": [],
   "source": [
    "# delete directory and all its contents\n",
    "import os\n",
    "import shutil\n",
    "\n",
    "def delete_dir(dir):\n",
    "    try:\n",
    "        shutil.rmtree(dir)\n",
    "    except OSError as e:\n",
    "        print(\"Error: %s - %s.\" % (e.filename, e.strerror))\n",
    "\n",
    "patch_output_dir = \"spa_patches_sample_output\"\n",
    "yolo_output_dir = \"yolov8_sample_output\"\n",
    "yolo_splitted_dir = \"yolov8_sample_splitted_output\"\n",
    "designator_copy_dir = \"designator_sample_output_copy\"\n",
    "designator_replace_dir = \"designator_sample_output_replace\"\n",
    "hsi_clahe_output_dir = \"hsi_clahe_sample_output\"\n",
    "\n",
    "delete_dir(patch_output_dir)\n",
    "delete_dir(yolo_output_dir)\n",
    "delete_dir(yolo_splitted_dir)\n",
    "delete_dir(designator_copy_dir)\n",
    "delete_dir(designator_replace_dir)\n",
    "delete_dir(hsi_clahe_output_dir)"
   ]
  },
  {
   "cell_type": "markdown",
   "metadata": {},
   "source": [
    "# HSI + CLAHE Conversion"
   ]
  },
  {
   "cell_type": "code",
   "execution_count": 36,
   "metadata": {},
   "outputs": [
    {
     "name": "stderr",
     "output_type": "stream",
     "text": [
      "100%|██████████| 1/1 [00:00<00:00,  1.59it/s]\n"
     ]
    }
   ],
   "source": [
    "from hsi_clahe_converter import HsiClaheConverter\n",
    "\n",
    "# create an instance of the HsiClaheConverter\n",
    "img_dir = \"spa_sample_input/img\"\n",
    "output_dir = \"hsi_clahe_sample_output\"\n",
    "precision = 4\n",
    "converter = HsiClaheConverter(img_dir, output_dir, precision)\n",
    "converter.convert()\n"
   ]
  },
  {
   "cell_type": "markdown",
   "metadata": {},
   "source": [
    "# Replacement of Designators (Annotation File Preprocessing)"
   ]
  },
  {
   "cell_type": "code",
   "execution_count": 37,
   "metadata": {},
   "outputs": [
    {
     "name": "stderr",
     "output_type": "stream",
     "text": [
      "100%|██████████| 1/1 [00:00<00:00, 42.02it/s]\n"
     ]
    }
   ],
   "source": [
    "\n",
    "from designator_replace import DesignatorReplace\n",
    "\n",
    "# directories\n",
    "input_dir = \"spa_sample_input/ann\"\n",
    "output_dir = \"designator_sample_output_replace\"\n",
    "\n",
    "# replace dictionary\n",
    "replace_dict = {\n",
    "    \"IC\": [\"VR\",\"Q\",\"CN\",\"RN\"],\n",
    "}\n",
    "\n",
    "# create an instance of the DesignatorReplace\n",
    "designator_replace = DesignatorReplace(input_dir, output_dir, replace_dict)\n",
    "designator_replace.replace()"
   ]
  },
  {
   "cell_type": "markdown",
   "metadata": {},
   "source": [
    "# Copy Designators (Annotation File Preprocessing)"
   ]
  },
  {
   "cell_type": "code",
   "execution_count": 38,
   "metadata": {},
   "outputs": [
    {
     "name": "stderr",
     "output_type": "stream",
     "text": [
      "100%|██████████| 1/1 [00:00<00:00, 56.19it/s]\n"
     ]
    }
   ],
   "source": [
    "from designator_copy import DesignatorCopy\n",
    "\n",
    "# files and directories\n",
    "base_file = \"spa_sample_input/ann/pcb_1f_cc_2_smd.csv\"\n",
    "target_dir = \"spa_sample_input/ann\"\n",
    "output_dir = \"designator_sample_output_copy\"\n",
    "\n",
    "# create an instance of the DesignatorCopy\n",
    "designator_copy = DesignatorCopy(base_file, target_dir, output_dir)\n",
    "designator_copy.copy()"
   ]
  },
  {
   "cell_type": "markdown",
   "metadata": {},
   "source": [
    "# SPA Patch Creator"
   ]
  },
  {
   "cell_type": "code",
   "execution_count": 39,
   "metadata": {},
   "outputs": [
    {
     "name": "stderr",
     "output_type": "stream",
     "text": [
      "100%|██████████| 1/1 [00:03<00:00,  3.70s/it]\n"
     ]
    }
   ],
   "source": [
    "from spa_patch_creator import SpaPatchCreator\n",
    "\n",
    "# directories\n",
    "ann_dir = \"spa_sample_input/ann\"\n",
    "img_dir = \"spa_sample_input/img\"\n",
    "output_dir = \"spa_patches_sample_output\"\n",
    "patchsize = 768\n",
    "\n",
    "spaPatch = SpaPatchCreator(ann_dir, img_dir, output_dir, patchsize).split()"
   ]
  },
  {
   "cell_type": "markdown",
   "metadata": {},
   "source": [
    "# SPA Converter"
   ]
  },
  {
   "cell_type": "code",
   "execution_count": 40,
   "metadata": {},
   "outputs": [
    {
     "name": "stderr",
     "output_type": "stream",
     "text": [
      "100%|██████████| 15/15 [00:01<00:00, 12.53it/s]\n"
     ]
    }
   ],
   "source": [
    "from spa_converter import SpaConverter\n",
    "\n",
    "# names of the classes\n",
    "names = {\"R\": 0,\n",
    "         \"C\": 1,\n",
    "         \"U\": 2,\n",
    "         \"Q\": 3,\n",
    "         \"J\": 4,\n",
    "         \"L\": 5,\n",
    "         \"RA\": 6,\n",
    "         \"D\": 7,\n",
    "         \"RN\": 8,\n",
    "         \"TP\": 9,\n",
    "         \"IC\": 10,\n",
    "         \"P\": 11,\n",
    "         \"CR\": 12,\n",
    "         \"M\": 13,\n",
    "         \"BTN\": 14,\n",
    "         \"FB\": 15,\n",
    "         \"CRA\": 16,\n",
    "         \"SW\": 17,\n",
    "         \"T\": 18,\n",
    "         \"F\": 19,\n",
    "         \"V\": 20,\n",
    "         \"LED\": 21,\n",
    "         \"S\": 22,\n",
    "         \"QA\": 23,\n",
    "         \"JP\": 24\n",
    "}\n",
    "\n",
    "# directories\n",
    "# to use the full images uncomment the following lines\n",
    "#ann_dir = \"spa_sample_input/ann\"\n",
    "#img_dir = \"spa_sample_input/img\"\n",
    "#output_dir = \"yolov8_sample_output\"\n",
    "# to use the patches uncomment the following lines\n",
    "ann_dir = \"spa_patches_sample_output/ann\"\n",
    "img_dir = \"spa_patches_sample_output/img\"\n",
    "output_dir = \"yolov8_sample_output\"\n",
    "\n",
    "spaConv = SpaConverter(ann_dir, img_dir, output_dir, names).convert()"
   ]
  },
  {
   "cell_type": "markdown",
   "metadata": {},
   "source": [
    "# Split Data into Train and Test Dataset"
   ]
  },
  {
   "cell_type": "code",
   "execution_count": 41,
   "metadata": {},
   "outputs": [],
   "source": [
    "from data_splitter import DataSplitter\n",
    "\n",
    "# directories\n",
    "input_dir = \"yolov8_sample_output\"\n",
    "output_dir = \"yolov8_sample_splitted_output\"\n",
    "\n",
    "# size of the test set\n",
    "test_size = 0.2\n",
    "\n",
    "DataSplitter(input_dir, output_dir, test_size).split()\n"
   ]
  }
 ],
 "metadata": {
  "kernelspec": {
   "display_name": ".venv",
   "language": "python",
   "name": "python3"
  },
  "language_info": {
   "codemirror_mode": {
    "name": "ipython",
    "version": 3
   },
   "file_extension": ".py",
   "mimetype": "text/x-python",
   "name": "python",
   "nbconvert_exporter": "python",
   "pygments_lexer": "ipython3",
   "version": "3.12.6"
  }
 },
 "nbformat": 4,
 "nbformat_minor": 2
}
