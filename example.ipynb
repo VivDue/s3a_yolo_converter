{
 "cells": [
  {
   "cell_type": "markdown",
   "metadata": {},
   "source": [
    "# SPA Patch Creator"
   ]
  },
  {
   "cell_type": "code",
   "execution_count": 2,
   "metadata": {},
   "outputs": [
    {
     "name": "stderr",
     "output_type": "stream",
     "text": [
      "100%|██████████| 1/1 [00:01<00:00,  1.21s/it]\n"
     ]
    }
   ],
   "source": [
    "from spa_patch_creator import SpaPatchCreator\n",
    "\n",
    "# directories\n",
    "ann_dir = \"spa_sample_input/ann\"\n",
    "img_dir = \"spa_sample_input/img\"\n",
    "output_dir = \"spa_patches_sample_output\"\n",
    "patchsize = 768\n",
    "\n",
    "spaPatch = SpaPatchCreator(ann_dir, img_dir, output_dir, patchsize).split()"
   ]
  },
  {
   "cell_type": "markdown",
   "metadata": {},
   "source": [
    "# SPA Converter"
   ]
  },
  {
   "cell_type": "code",
   "execution_count": 3,
   "metadata": {},
   "outputs": [
    {
     "name": "stderr",
     "output_type": "stream",
     "text": [
      "100%|██████████| 1/1 [00:00<00:00,  6.08it/s]\n"
     ]
    }
   ],
   "source": [
    "from spa_converter import SpaConverter\n",
    "\n",
    "# names of the classes\n",
    "names = {\"R\": 0,\n",
    "         \"C\": 1,\n",
    "         \"U\": 2,\n",
    "         \"Q\": 3,\n",
    "         \"J\": 4,\n",
    "         \"L\": 5,\n",
    "         \"RA\": 6,\n",
    "         \"D\": 7,\n",
    "         \"RN\": 8,\n",
    "         \"TP\": 9,\n",
    "         \"IC\": 10,\n",
    "         \"P\": 11,\n",
    "         \"CR\": 12,\n",
    "         \"M\": 13,\n",
    "         \"BTN\": 14,\n",
    "         \"FB\": 15,\n",
    "         \"CRA\": 16,\n",
    "         \"SW\": 17,\n",
    "         \"T\": 18,\n",
    "         \"F\": 19,\n",
    "         \"V\": 20,\n",
    "         \"LED\": 21,\n",
    "         \"S\": 22,\n",
    "         \"QA\": 23,\n",
    "         \"JP\": 24\n",
    "}\n",
    "\n",
    "# directories\n",
    "#ann_dir = \"spa_sample_input/ann\"\n",
    "#img_dir = \"spa_sample_input/img\"\n",
    "#output_dir = \"yolov8_sample_output\"\n",
    "ann_dir = \"spa_patches_sample_output/ann\"\n",
    "img_dir = \"spa_patches_sample_output/img\"\n",
    "output_dir = \"yolov8_sample_output\"\n",
    "\n",
    "spaConv = SpaConverter(ann_dir, img_dir, output_dir, names).convert()"
   ]
  }
 ],
 "metadata": {
  "kernelspec": {
   "display_name": ".venv",
   "language": "python",
   "name": "python3"
  },
  "language_info": {
   "codemirror_mode": {
    "name": "ipython",
    "version": 3
   },
   "file_extension": ".py",
   "mimetype": "text/x-python",
   "name": "python",
   "nbconvert_exporter": "python",
   "pygments_lexer": "ipython3",
   "version": "3.12.4"
  }
 },
 "nbformat": 4,
 "nbformat_minor": 2
}
